{
 "cells": [
  {
   "cell_type": "code",
   "execution_count": null,
   "metadata": {},
   "outputs": [
    {
     "name": "stderr",
     "output_type": "stream",
     "text": [
      "/home/jsun/anaconda3/envs/torch/lib/python3.9/site-packages/tqdm/auto.py:22: TqdmWarning: IProgress not found. Please update jupyter and ipywidgets. See https://ipywidgets.readthedocs.io/en/stable/user_install.html\n",
      "  from .autonotebook import tqdm as notebook_tqdm\n"
     ]
    }
   ],
   "source": [
    "import torch\n",
    "import pandas as pd\n",
    "import seaborn as sns\n",
    "from mlm import *\n",
    "import matplotlib.pyplot as plt"
   ]
  },
  {
   "cell_type": "code",
   "execution_count": 2,
   "metadata": {},
   "outputs": [
    {
     "data": {
      "image/png": "[encoded data removed]",
      "text/plain": [
       "<Figure size 144x244.8 with 1 Axes>"
      ]
     },
     "metadata": {},
     "output_type": "display_data"
    }
   ],
   "source": [
    "device = torch.device('cuda:1' if torch.cuda.is_available() else 'cpu')\n",
    "\n",
    "model = torch.load('./models/PF01083_19.pt', map_location=device)\n",
    "\n",
    "model.eval()\n",
    "\n",
    "def read_vocab(vocab_file):\n",
    "    vocab_dict = {}\n",
    "    with open(vocab_file, 'r') as vocab_file:\n",
    "        for i, line in enumerate(vocab_file):\n",
    "            vocab = line.replace(\"\\n\", \"\")\n",
    "            vocab_dict[vocab] = i\n",
    "    return vocab_dict\n",
    "\n",
    "vocab = read_vocab('vocab.txt')\n",
    "\n",
    "def tokenizer(seq):\n",
    "    x = torch.zeros(len(seq)+2)\n",
    "    x[0] = 2\n",
    "    for i, aa in enumerate(seq):\n",
    "        w = vocab.get(aa)\n",
    "        if w:\n",
    "            x[i+1] = w\n",
    "        else:\n",
    "            x[i+1] = 1\n",
    "    x[-1] = 3\n",
    "    return x.long()\n",
    "\n",
    "def check_heatmap():\n",
    "    raw_sequence = \"SNPYQRGPNPTRSALTTDGPFSVATYSVSRLSVSGFGGGVIYYPTGTTLTFGGIAMSPGYTADASSLAWLGRRLASHGFVVIVINTNSRLDFPDSRASQLSAALNYLRTSSPSAVRARLDANRLAVAGHSMGGGATLRISEQIPTLKAGVPLTPWHTDKTFNTPVPQLIVGAEADTVAPVSQHAIPFYQNLPSTTPKVYVELDNATHFAPNSPNAAISVYTISWMKLWVDNDTRYRQFLCNVNDPALSDFRSNNRHCQ\"\n",
    "\n",
    "    inp = tokenizer(raw_sequence).view(1, -1)\n",
    "    map = []\n",
    "    for i, w in enumerate(raw_sequence):\n",
    "        wild = vocab[w]\n",
    "        inp[0][i] = 4\n",
    "        with torch.no_grad():\n",
    "            y = model(inp.to(device))\n",
    "            map.append(list(y[0].cpu()[i].numpy() - y[0].cpu()[i].numpy()[wild])[5:])\n",
    "        inp = tokenizer(raw_sequence).view(1, -1)\n",
    "    return map\n",
    "\n",
    "map = check_heatmap()\n",
    "\n",
    "plot_x = []\n",
    "plot_y = []\n",
    "\n",
    "for x, y in zip([i for i in range(len(map))], np.array(map).mean(axis=-1)):\n",
    "    if x+36 < 280: # we remove the unstructured C-terminal\n",
    "        plot_x.append(x+36)\n",
    "        plot_y.append(y)\n",
    "\n",
    "df = pd.DataFrame({'pos':plot_x, 'score':plot_y})\n",
    "top10 = df.sort_values('score', ascending=False).head(10)\n",
    "\n",
    "sns.set_style('white')\n",
    "fig, ax = plt.subplots(figsize=(2,3.4))\n",
    "sns.lineplot(x=(np.array(plot_x)-36)/(len(plot_x)), y=plot_y, color='grey')\n",
    "ax.set_xlim([0,1])\n",
    "ax.set_ylim([-2.5,4.5])\n",
    "ax.set_yticks(np.arange(8)-2.5)\n",
    "ax.set_xticks([0,235/max(plot_x)])\n",
    "ax.set_xticklabels([35, 235])\n",
    "ax.scatter(x=(top10['pos']-36)/len(plot_x), y=top10['score'], color='brown', zorder=10)\n",
    "ax.text(x=0.2,y=-2.2,s='BhrPETase', fontsize=15)\n",
    "plt.show()\n"
   ]
  },
  {
   "cell_type": "code",
   "execution_count": null,
   "metadata": {},
   "outputs": [],
   "source": []
  }
 ],
 "metadata": {
  "kernelspec": {
   "display_name": "Python 3.9.12 ('torch')",
   "language": "python",
   "name": "python3"
  },
  "language_info": {
   "codemirror_mode": {
    "name": "ipython",
    "version": 3
   },
   "file_extension": ".py",
   "mimetype": "text/x-python",
   "name": "python",
   "nbconvert_exporter": "python",
   "pygments_lexer": "ipython3",
   "version": "3.9.7"
  },
  "orig_nbformat": 4,
  "vscode": {
   "interpreter": {
    "hash": "659aa0af064391364fc9bfea00c9f4016147f56ab6197d6d7776eabe96eb3f49"
   }
  }
 },
 "nbformat": 4,
 "nbformat_minor": 2
}
